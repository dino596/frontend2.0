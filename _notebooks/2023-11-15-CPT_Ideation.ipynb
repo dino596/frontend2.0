{
 "cells": [
  {
   "cell_type": "markdown",
   "metadata": {},
   "source": [
    "---\n",
    "toc: true\n",
    "comments: true\n",
    "layout: notebook\n",
    "title: CPT Project Ideation\n",
    "description:  ideas for our mini project\n",
    "courses: { compsci: {week: 0} }\n",
    "type: hacks\n",
    "---"
   ]
  },
  {
   "cell_type": "markdown",
   "metadata": {},
   "source": [
    "# Project Roles\n",
    "\n",
    "- Scrum Master: Arthur\n",
    "- DevOps: Patrick \n",
    "- Frontend Developers: Nikki and Eun "
   ]
  },
  {
   "cell_type": "markdown",
   "metadata": {},
   "source": [
    "# CPT Mini Project Ideation: Binary Calculator with Animation, Logic Gates, and Bit Shifts\n",
    "\n",
    "## Binary-Decimal Conversion\n",
    "- the calculator would work one way\n",
    "- you input a decimal number and it gives you the binary conversion \n",
    "- we can likely develop our own formula or find a formula, using JavaScript to convert\n",
    "\n",
    "## Different Operations\n",
    "- we would have the normal operations of a 4-function calculator \n",
    "- multiplication, division, subtraction, addition\n",
    "- JavaScript\n",
    "\n",
    "## Logic Gates\n",
    "- we will insert different logic gates as different buttons on the calculator \n",
    "- they might have a different color when you hover over their buttons to differentiate types of actions ones can conduct on the calculator \n",
    "\n",
    "## Bit Shifts\n",
    "- this would be two buttons\n",
    "- binary left and right shift features on the calculator\n",
    "\n",
    "## Animation Feature\n",
    "- we would add an animation to the background of the calculator \n",
    "- SASS use\n",
    "- animation ideas include: moving background, interactive buttons (changing color, spinning, lighting up different colors when you hover over them)\n",
    "\n",
    "## Style\n",
    "- 4 different outputs: binary, decimal (also the input), hexadecimal, octal\n",
    "- butttons for different calcualtor features\n",
    "- drop down menu for the logic gates portion \n",
    "\n",
    "## Outside Reserach\n",
    "- will investigate the best methods others have used to execute plans like this\n",
    "- will utilize chatGPT to discover the code we can use to execute our plan\n",
    "- will look at the code for the Calculator from last trimester as an example for our project"
   ]
  },
  {
   "cell_type": "markdown",
   "metadata": {},
   "source": [
    "# Design Plan\n",
    "\n",
    "![Binary Calculator Design](../images/BinaryCalculatorDesign.png)"
   ]
  }
 ],
 "metadata": {
  "language_info": {
   "name": "python"
  },
  "orig_nbformat": 4
 },
 "nbformat": 4,
 "nbformat_minor": 2
}
