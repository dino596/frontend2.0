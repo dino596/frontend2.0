{
 "cells": [
  {
   "cell_type": "markdown",
   "metadata": {},
   "source": [
    "---\n",
    "toc: true\n",
    "comments: true\n",
    "layout: notebook\n",
    "title: CPT Project Ideation\n",
    "description:  ideas for our mini project\n",
    "courses: { compsci: {week: 0} }\n",
    "type: hacks\n",
    "---"
   ]
  },
  {
   "cell_type": "markdown",
   "metadata": {},
   "source": [
    "# CPT Mini Project Ideation: Binary Calculator with Animation\n",
    "\n",
    "## Binary-Decimal Conversion\n",
    "- the calculator would work one way\n",
    "- you input a decimal number and it gives you the binary conversion \n",
    "- we can likely develop our own formula or find a formula, using JavaScript to convert\n",
    "\n",
    "## Different Operations\n",
    "- we would have the normal operations of a 4-function calculator \n",
    "- multiplication, division, subtraction, addition\n",
    "- JavaScript\n",
    "\n",
    "## Animation Feature\n",
    "- we would add an animation to the background of the calculator \n",
    "- SASS use\n",
    "- animation ideas include: moving background, interactive buttons (changing color, spinning, lighting up different colors when you hover over them)\n"
   ]
  },
  {
   "cell_type": "markdown",
   "metadata": {},
   "source": [
    "# Design Plan"
   ]
  }
 ],
 "metadata": {
  "language_info": {
   "name": "python"
  },
  "orig_nbformat": 4
 },
 "nbformat": 4,
 "nbformat_minor": 2
}
