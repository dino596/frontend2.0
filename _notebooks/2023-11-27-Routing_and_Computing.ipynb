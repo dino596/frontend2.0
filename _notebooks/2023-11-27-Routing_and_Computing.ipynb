{
 "cells": [
  {
   "cell_type": "markdown",
   "metadata": {},
   "source": [
    "---\n",
    "comments: true\n",
    "layout: notebook\n",
    "title: 4.2 & 4.3 Routing and Computing\n",
    "description:  \n",
    "type: hacks\n",
    "courses: { compsci: {week: 1} }\n",
    "categories: [C4.1]\n",
    "---"
   ]
  },
  {
   "cell_type": "markdown",
   "metadata": {},
   "source": [
    "# Sequential, Parallel, and Distributed Computing\n",
    "\n",
    "## Computer Tasks\n",
    " \n",
    " - A computer needs to handle many tasks as it operates:\n",
    "\t- **System Tasks**: the operating system has dozens of tasks, like scheduling what it \n",
    "    will be doing next, managing hardware, working with the network, etc.\n",
    "    - **User Tasks**: executing programs that the user has selected, such as running MS \n",
    "    Excel and MS Word, or computer games\n",
    "\n",
    "- Tasks need to be scheduled by the operating system. Balance tasks so all CPUs are being\n",
    "used evenly and fully.\n",
    "\n",
    "- Running tasks can be done sequentially, in parallel, and be distributed to other computers.\n"
   ]
  }
 ],
 "metadata": {
  "language_info": {
   "name": "python"
  },
  "orig_nbformat": 4
 },
 "nbformat": 4,
 "nbformat_minor": 2
}
