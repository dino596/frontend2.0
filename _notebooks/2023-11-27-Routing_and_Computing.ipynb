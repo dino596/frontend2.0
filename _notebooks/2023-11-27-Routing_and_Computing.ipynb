{
 "cells": [
  {
   "cell_type": "markdown",
   "metadata": {},
   "source": [
    "---\n",
    "comments: true\n",
    "layout: notebook\n",
    "title: 4.2 & 4.3 Routing and Computing\n",
    "description:  \n",
    "type: hacks\n",
    "courses: { compsci: {week: 1} }\n",
    "categories: [C4.1]\n",
    "---"
   ]
  },
  {
   "cell_type": "markdown",
   "metadata": {},
   "source": [
    "# Sequential, Parallel, and Distributed Computing\n"
   ]
  },
  {
   "cell_type": "markdown",
   "metadata": {},
   "source": [
    "## Computer Tasks\n",
    " \n",
    " - A computer needs to handle many tasks as it operates:\n",
    "\t- **System Tasks**: the operating system has dozens of tasks, like scheduling what it \n",
    "    will be doing next, managing hardware, working with the network, etc.\n",
    "    - **User Tasks**: executing programs that the user has selected, such as running MS \n",
    "    Excel and MS Word, or computer games\n",
    "- Tasks need to be scheduled by the operating system. Balance tasks so all CPUs are being\n",
    "used evenly and fully.\n",
    "- Running tasks can be done sequentially, in parallel, and be distributed to other computers."
   ]
  },
  {
   "cell_type": "markdown",
   "metadata": {},
   "source": [
    "## Sequential Computing\n",
    "\n",
    "- <mark>Sequential Computing</mark>: Tasks are done one after another. It is a computational model in which operations are performed in order one at a time.\n",
    "- The computer works tasks A, B, C, … one at a time.\n",
    "- Why do this? \n",
    "\t- it has **limited hardware**: It only has one CPU (older hardware)\n",
    "    - it's **tasks are dependent**: Task B depends on Task A, Task C depends on Task B, so the needed order is A, B, and finally C.\n",
    "- **Execution Time**: Sequential Operations add up all the individual task execution times.\n",
    "- Example: \n",
    "\t- Task A takes 50 ms\n",
    "\t- Task B takes 40 ms\n",
    "\t- Task C takes 35 ms\n",
    "\t- Total processing time is 50 ms + 40 ms + 35 ms = 125 ms\n",
    "- Think of sequential computing as items one at a time on a conveyor belt.\n"
   ]
  },
  {
   "cell_type": "markdown",
   "metadata": {},
   "source": [
    "## Parallel Computing\n",
    "\n",
    "- <mark>Parallel Computing</mark>: A computational model where the program is broken into multiple smaller sequential computing operations, some of which are performed simultaneously.\n",
    "    - schedules tasks to be executed at the same time\n",
    "    - Normally done on the same computer\n",
    "    - consists of a parallel portion and a sequential portion\n",
    "- Comparing efficiency of solutions can be done by comparing the time it takes to perform the same set task.\n",
    "- Why Parallel Computing?\n",
    "    - **Hardware Driven**: New hardware has several processors in one system, called cores. 1 CPU can have 64+ cores. Graphic cards for gaming can have thousands of cores.\n",
    "    - **Faster Operations**: supercomputers link hundreds of CPUs together to work the same problem.\n",
    "    - **Data Driven**: A lot of data can be processed the same way (video gaming), called SIMD (Single Instruction Multiple Data)\n",
    "    - Solutions that use parallel computing can scale more effectively than solutions that use sequential computing\n",
    "- Execution Time:\n",
    "    - Time equals the longest time taken on any given processor,\n",
    "    - A parallel computing solution takes as long as its sequential tasks plus the longest of its parallel tasks.\n",
    "    - Parallel processing works best when the tasks are independent from each other– they don’t depend on each other’s answers.\n",
    "- Example: \n",
    "    - Core 1: Task A takes 45 ms\n",
    "    - Core 2: Task B takes 50 ms\n",
    "    - Core 3: Task C takes 25 ms; Task D takes 30 ms\n",
    "    - Core 4: Task E takes 40 ms\n",
    "    - Total time needed: 55 ms (Core 3 with Tasks C and D in sequence)\n"
   ]
  },
  {
   "cell_type": "markdown",
   "metadata": {},
   "source": [
    "## <font color = \"4895EF\"> Popcorn Hack 1 </font>\n",
    "\n",
    "<font color = \"4895EF\"> \n",
    "\n",
    "A particular computer has two identical processors which can run in parallel. Each process must be executed on a single processor and each processor can only run one process at a time.\n",
    "\n",
    "The table below lists the amount of time it takes to execute each of the processes on a single computer. None of the processes are dependent on any of the others.\n",
    "\n",
    "What is the minimum amount of time (approximate) to execute all three processes when the two processors are run in parallel?\n",
    "\n",
    " </font>\n",
    "\n",
    "| Process  | Execution Time on Either Processor |\n",
    "| ----------- | ----------- |\n",
    "| X | 50 seconds |\n",
    "| Y | 10 seconds |\n",
    "| Z | 30 seconds |\n"
   ]
  },
  {
   "cell_type": "markdown",
   "metadata": {},
   "source": [
    "## Comparing Efficiency of Solutions\n",
    "\n",
    "- Comparing efficiency of solutions can be done by comparing the time it takes them to perform the same task.\n",
    "- **Sequential Execution Time**:\t\t\t\t\n",
    "    - Sequential Operations add up all the individual task execution times.\n",
    "        - Core 1: Task A takes 50 ms\n",
    "        - Core 1: Task B takes 40 ms\n",
    "        - Core 1: Task C takes 35 ms\n",
    "        - Total processing time is 50 ms + 40 ms + 35 ms = 125 ms\n",
    "- **Parallel Execution Time**:\n",
    "    - Time equals the longest time taken on any given processor.\n",
    "    - Parallel processing works best when the tasks are independent from each other– they don’t depend on each other’s answers.\n",
    "        - Core 1: Task A takes 50 ms\n",
    "        - Core 2: Task B takes 40 ms + Task C takes 35 ms\n",
    "        - Total time needed: 75 ms (Core 2 with Tasks B and C in sequence)\n"
   ]
  },
  {
   "cell_type": "markdown",
   "metadata": {},
   "source": [
    "## Speedup Time\n",
    "\n",
    "- The “speedup” of a parallel solution is measured in the time it took to complete the task sequentially divided by the time it took to complete the task when done in parallel.\n",
    "  - Sequential Total processing time is 50 ms + 40 ms + 35 ms = 125 ms\n",
    "  - Parallel Total time needed = 75 ms\n",
    "  - Speedup 125 ms / 75 ms  1.67 ms\n",
    "\n",
    "\n",
    "*<mark>NOTE</mark>: When increasing the use of parallel computing in a solution, the efficiency of the solution is still restricted by the sequential portion. This means that at some point, adding parallel portions will no longer significantly increase efficiency.*\n"
   ]
  },
  {
   "cell_type": "markdown",
   "metadata": {},
   "source": [
    "## Distributed Computing\n",
    "\n",
    "- <mark>Distributed Computing</mark>: the sending of tasks from one computer to one or more others. It is a model in which multiple devices are used to run a program.\n",
    "    - can mix sequential and parallel computing, based on how it sends out tasks to other computers to work\n",
    "    - allows problems to be solved that could not be solved on a single computer because of either the processing time or storage needs involved\n",
    "- Examples:\n",
    "    - Google Web Search: you ask for a search, and Google sends the request to its thousand of servers in the background.\n",
    "    - Web Services: standards on how computers can ask for task execution over the web. This includes protocols like SOAP, RSS, REST, etc.\n",
    "    - **Beowulf Clusters**: special software to group different computers together \n",
    "- How is it different from sequential and parallel execution?\n",
    "    - Uses more than one physical computer\n",
    "    - The computers, data, and tasks can be very different from each other\n",
    "    - Needs a network\n",
    "    - Is a mix of sequential and parallel execution of tasks\n",
    "    - Can take longer based on the network and waiting for responses from other computers"
   ]
  },
  {
   "cell_type": "markdown",
   "metadata": {},
   "source": [
    "## <font color = \"FFC0CB\"> Hack 1: Multiple Choice </font>\n",
    "\n",
    "Highlight the answer that is correct. You highlight in markdown by putting `` <mark> </mark>`` around a line of text.\n",
    "\n",
    "Which of the following is NOT a benefit of a fault-tolerant network?\n",
    "  - A) Data has more than one path to travel from one device to another.\n",
    "  - B) If part of the netowrk fails, the network can still function by using other parts.\n",
    "  - C) Data will only take one route from one device to another, no matter the number of routes available.\n",
    "  - D) More devices creates more connections and makes the network stronger.\n",
    "\n",
    "<br>\n",
    "\n",
    "A computer has two duplicate processors that are able to run in parallel. The table below shows the amount of time it takes each processor to execute each of the two processes. Neither process is dependent on the other.\n",
    "\n",
    "  | Process  | Execution Time on Either Processor |\n",
    "  | ----------- | ----------- |\n",
    "  | A | 25 seconds |\n",
    "  | B | 45 seconds |\n",
    "  \n",
    "  What is the difference in execution time between running the two processes in parallel in place of running them one after the other on a single processor?\n",
    "  - A) 50 seconds \n",
    "  - B) 25 seconds\n",
    "  - C) 70 seconds\n",
    "  - D) 22 seconds\n",
    "\n",
    "  <br>\n",
    "\n",
    "A computer has two processors that can run in parallel. The table below indicates the amount of time it takes each processor to execute four different processes. None of the processes is dependent on any of the other processes.\n",
    "\n",
    "  | Process  | Execution Time on Either Processor |\n",
    "  | ----------- | ----------- |\n",
    "  | A | 25 seconds |\n",
    "  | B | 25 seconds |\n",
    "  | C | 10 seconds |\n",
    "  | D | 40 seconds |\n",
    "\n",
    "  How should the program assign the four processes to optimize execution time? \n",
    "  - A) Processes B and C should be assigned to one processor and A and D to the other processor. \n",
    "  - B) Processes B should be assigned to one processor and C to the other processor. \n",
    "  - C) There is no way to optimize execution time; this will be very slow. \n",
    "  - D) Processes A and B should be assigned to one processor and C and D to the other processor. "
   ]
  }
 ],
 "metadata": {
  "language_info": {
   "name": "python"
  },
  "orig_nbformat": 4
 },
 "nbformat": 4,
 "nbformat_minor": 2
}
